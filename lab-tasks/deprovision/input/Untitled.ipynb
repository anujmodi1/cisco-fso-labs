{
 "cells": [
  {
   "cell_type": "code",
   "execution_count": 127,
   "id": "f2ba91ce",
   "metadata": {},
   "outputs": [
    {
     "name": "stdout",
     "output_type": "stream",
     "text": [
      "aws ec2 describe-instances --query \"Reservations[*].Instances[*].{Instance:InstanceId,AZ:Placement.AvailabilityZone,Name:Tags[?Key=='us-east-2b']|[0].Value}\" --filters Name=instance-state-code,Values=16  Name=availability-zone,Values=us-east-2b --output json\n",
      "[]\n"
     ]
    }
   ],
   "source": [
    "#!/usr/bin/env python\n",
    "import json, re, sys, os, json, time, logging, requests, urllib3\n",
    "from requests.structures import CaseInsensitiveDict\n",
    "urllib3.disable_warnings()\n",
    "from requests.structures import CaseInsensitiveDict\n",
    "import subprocess\n",
    "from subprocess import call, check_output\n",
    "\n",
    "VAULT_ADDR = os.getenv('VAULT_ADDRR')\n",
    "VAULT_TOKEN = os.getenv('VAULT_TOKEN') #This gets the vault token from the ephemeral build container\n",
    "\n",
    "lab_vars='lab_vars.py'\n",
    "import lab_vars\n",
    "from lab_vars import *\n",
    "\n",
    "#get all the vars and then import this module to a delete_env script that uses the aws-cli commands and polls for inst state when termed\n",
    "\n",
    "VAULT_ADDR = os.getenv('VAULT_ADDRR')\n",
    "VAULT_TOKEN = os.getenv('VAULT_TOKEN')\n",
    "\n",
    "#Get List of all EC2 instances in a AZ\n",
    "#aws ec2 describe-instances --query \"Reservations[*].Instances[*].{Instance:InstanceId,AZ:Placement.AvailabilityZone,Name:Tags[?Key=='us-east-2c']|[0].Value}\" --output json\n",
    "#cmd_describe_instances='aws ec2 describe-instances --query \"Reservations[*].Instances[*].{Instance:InstanceId,AZ:Placement.AvailabilityZone,Name:Tags[?Key==' + \"'\" \"{}\".format(name) + \"'\" + ']|[0].Value}\"' + \" \" + '--output json'\n",
    "cmd_describe_instances='aws ec2 describe-instances --query \"Reservations[*].Instances[*].{Instance:InstanceId,AZ:Placement.AvailabilityZone,Name:Tags[?Key==' + \"'\" \"{}\".format(name) + \"'\" + ']|[0].Value}\"' + \" \" + '--filters Name=instance-state-code,Values=16 ' + \" \" + 'Name=availability-zone,Values=' + name + \" \" + '--output json'\n",
    "#cmd_describe_instances='aws ec2 describe-instances --region' + \" \" + region + \" \" + '--filters Name=instance-state-code,Values=16 Name=availability-zone,Values=' + name\n",
    "print(cmd_describe_instances)\n",
    "output = check_output(\"{}\".format(cmd_describe_instances), shell=True).decode().strip()\n",
    "y=json.loads(output)\n",
    "list_json = y\n",
    "list_of_lists=list_json\n",
    "flatList = [ item for elem in list_of_lists for item in elem]\n",
    "res = [ sub['Instance'] for sub in flatList ]\n",
    "print(str(res))\n",
    "\n",
    "\n",
    "\n"
   ]
  },
  {
   "cell_type": "code",
   "execution_count": null,
   "id": "f8fb8c09",
   "metadata": {},
   "outputs": [],
   "source": []
  },
  {
   "cell_type": "code",
   "execution_count": null,
   "id": "a76b69cb",
   "metadata": {},
   "outputs": [],
   "source": []
  },
  {
   "cell_type": "code",
   "execution_count": null,
   "id": "a08fc3cd",
   "metadata": {},
   "outputs": [],
   "source": []
  },
  {
   "cell_type": "code",
   "execution_count": null,
   "id": "cca29dc7",
   "metadata": {},
   "outputs": [],
   "source": []
  },
  {
   "cell_type": "code",
   "execution_count": null,
   "id": "88fd09aa",
   "metadata": {},
   "outputs": [],
   "source": []
  }
 ],
 "metadata": {
  "kernelspec": {
   "display_name": "Python 3 (ipykernel)",
   "language": "python",
   "name": "python3"
  },
  "language_info": {
   "codemirror_mode": {
    "name": "ipython",
    "version": 3
   },
   "file_extension": ".py",
   "mimetype": "text/x-python",
   "name": "python",
   "nbconvert_exporter": "python",
   "pygments_lexer": "ipython3",
   "version": "3.10.0"
  }
 },
 "nbformat": 4,
 "nbformat_minor": 5
}
